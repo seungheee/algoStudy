{
  "nbformat": 4,
  "nbformat_minor": 0,
  "metadata": {
    "colab": {
      "name": "미니_실습1_CNN과_친해지기.ipynb",
      "provenance": [],
      "collapsed_sections": [],
      "toc_visible": true,
      "machine_shape": "hm",
      "include_colab_link": true
    },
    "kernelspec": {
      "name": "python3",
      "display_name": "Python 3"
    },
    "accelerator": "GPU"
  },
  "cells": [
    {
      "cell_type": "markdown",
      "metadata": {
        "id": "view-in-github",
        "colab_type": "text"
      },
      "source": [
        "<a href=\"https://colab.research.google.com/github/seungheee/algoStudy/blob/master/%EB%AF%B8%EB%8B%88_%EC%8B%A4%EC%8A%B51_CNN%EA%B3%BC_%EC%B9%9C%ED%95%B4%EC%A7%80%EA%B8%B0.ipynb\" target=\"_parent\"><img src=\"https://colab.research.google.com/assets/colab-badge.svg\" alt=\"Open In Colab\"/></a>"
      ]
    },
    {
      "cell_type": "markdown",
      "metadata": {
        "id": "RQuwLrfneJGq"
      },
      "source": [
        "## 1D CNN과 친해져요 :)"
      ]
    },
    {
      "cell_type": "code",
      "metadata": {
        "id": "mZ7JZpmsEyqC"
      },
      "source": [
        "import numpy as np\n",
        "from tensorflow.keras.layers import Conv1D, MaxPool1D, GlobalMaxPooling1D"
      ],
      "execution_count": null,
      "outputs": []
    },
    {
      "cell_type": "markdown",
      "metadata": {
        "id": "J5M7A-EENdX1"
      },
      "source": [
        "1. 길이가 10 토큰인 문장을 임베딩 사이즈=32로 임베딩한 것에 CNN 적용하기"
      ]
    },
    {
      "cell_type": "code",
      "metadata": {
        "id": "pXZYQzcZMjEf",
        "outputId": "8e984b5c-0191-4ea5-96ab-a98ce06dec4a",
        "colab": {
          "base_uri": "https://localhost:8080/",
          "height": 35
        }
      },
      "source": [
        "BATCH_SIZE = 1\n",
        "SEQ_LEN = 10\n",
        "EMBEDDING_SIZE = 32\n",
        "\n",
        "embedded_input = np.array(np.random.normal(size=(BATCH_SIZE, SEQ_LEN, EMBEDDING_SIZE)), dtype=np.float32)\n",
        "print(embedded_input.shape)"
      ],
      "execution_count": null,
      "outputs": [
        {
          "output_type": "stream",
          "text": [
            "(1, 10, 32)\n"
          ],
          "name": "stdout"
        }
      ]
    },
    {
      "cell_type": "code",
      "metadata": {
        "id": "mUBAmFSRMv0D"
      },
      "source": [
        "KERNEL_SIZE1 = 3\n",
        "NUM_FEATURE_MAP = 10\n",
        "\n",
        "cnn_applied1 = Conv1D(filters = NUM_FEATURE_MAP, \n",
        "                     kernel_size = KERNEL_SIZE1, \n",
        "                     activation='relu')(embedded_input)"
      ],
      "execution_count": null,
      "outputs": []
    },
    {
      "cell_type": "code",
      "metadata": {
        "id": "9hbzM1UxNC53",
        "outputId": "4805ab07-93bf-421d-dd74-64aee426bc8e",
        "colab": {
          "base_uri": "https://localhost:8080/",
          "height": 35
        }
      },
      "source": [
        "print(cnn_applied1.shape)"
      ],
      "execution_count": null,
      "outputs": [
        {
          "output_type": "stream",
          "text": [
            "(1, 8, 10)\n"
          ],
          "name": "stdout"
        }
      ]
    },
    {
      "cell_type": "code",
      "metadata": {
        "id": "KYCMts2XO0j8"
      },
      "source": [
        "KERNEL_SIZE2 = 4\n",
        "NUM_FEATURE_MAP = 10\n",
        "\n",
        "cnn_applied2 = Conv1D(filters = NUM_FEATURE_MAP, \n",
        "                     kernel_size = KERNEL_SIZE2, \n",
        "                     activation='relu')(embedded_input)"
      ],
      "execution_count": null,
      "outputs": []
    },
    {
      "cell_type": "code",
      "metadata": {
        "id": "nw_DUfYQNXYs",
        "outputId": "9f625ee1-c72f-423d-f44e-1232f6a1c06c",
        "colab": {
          "base_uri": "https://localhost:8080/",
          "height": 35
        }
      },
      "source": [
        "print(cnn_applied2.shape)"
      ],
      "execution_count": null,
      "outputs": [
        {
          "output_type": "stream",
          "text": [
            "(1, 7, 10)\n"
          ],
          "name": "stdout"
        }
      ]
    },
    {
      "cell_type": "markdown",
      "metadata": {
        "id": "mPKlNuaIQGrA"
      },
      "source": [
        "2. CNN feature map에 Max Pooling 적용하기"
      ]
    },
    {
      "cell_type": "code",
      "metadata": {
        "id": "g6gOJrXvQCP_",
        "outputId": "61eee6ff-4ef2-4a42-b495-6cd6510b7f7f",
        "colab": {
          "base_uri": "https://localhost:8080/",
          "height": 70
        }
      },
      "source": [
        "POOL_SIZE1 = SEQ_LEN - KERNEL_SIZE1 + 1\n",
        "## <- 이 계산을 알아서 해주는 것이 GlobalMaxPooling1D !!!\n",
        "print(\"CNN applied size for kernel {} => {}\".format(KERNEL_SIZE1, cnn_applied1.shape))\n",
        "print(\"Pooling size for kernel {}     => {}\".format(KERNEL_SIZE1, POOL_SIZE1))\n",
        "\n",
        "max_pool_applied1 = GlobalMaxPooling1D()(cnn_applied1)\n",
        "print(max_pool_applied1.shape)"
      ],
      "execution_count": null,
      "outputs": [
        {
          "output_type": "stream",
          "text": [
            "CNN applied size for kernel 3 => (1, 8, 10)\n",
            "Pooling size for kernel 3     => 8\n",
            "(1, 10)\n"
          ],
          "name": "stdout"
        }
      ]
    },
    {
      "cell_type": "code",
      "metadata": {
        "id": "vJRY6ALzL5eo",
        "outputId": "9ddb451c-59df-4e09-8cfc-562aefe53f43",
        "colab": {
          "base_uri": "https://localhost:8080/",
          "height": 35
        }
      },
      "source": [
        "embedded_input.shape"
      ],
      "execution_count": null,
      "outputs": [
        {
          "output_type": "execute_result",
          "data": {
            "text/plain": [
              "(1, 10, 32)"
            ]
          },
          "metadata": {
            "tags": []
          },
          "execution_count": 8
        }
      ]
    },
    {
      "cell_type": "code",
      "metadata": {
        "id": "NixAyQCHK4w5",
        "outputId": "d82688b1-15e5-428a-de50-fcdc4bcfa653",
        "colab": {
          "base_uri": "https://localhost:8080/",
          "height": 35
        }
      },
      "source": [
        "cnn_applied1.shape"
      ],
      "execution_count": null,
      "outputs": [
        {
          "output_type": "execute_result",
          "data": {
            "text/plain": [
              "TensorShape([1, 8, 10])"
            ]
          },
          "metadata": {
            "tags": []
          },
          "execution_count": 9
        }
      ]
    },
    {
      "cell_type": "code",
      "metadata": {
        "id": "4SKPgGbvJV0c",
        "outputId": "4408ad39-0c81-4133-8752-f043423edd23",
        "colab": {
          "base_uri": "https://localhost:8080/",
          "height": 157
        }
      },
      "source": [
        "[a[1]for a in cnn_applied1[0]]"
      ],
      "execution_count": null,
      "outputs": [
        {
          "output_type": "execute_result",
          "data": {
            "text/plain": [
              "[<tf.Tensor: shape=(), dtype=float32, numpy=0.0>,\n",
              " <tf.Tensor: shape=(), dtype=float32, numpy=0.0>,\n",
              " <tf.Tensor: shape=(), dtype=float32, numpy=0.0>,\n",
              " <tf.Tensor: shape=(), dtype=float32, numpy=1.8213649>,\n",
              " <tf.Tensor: shape=(), dtype=float32, numpy=1.4284496>,\n",
              " <tf.Tensor: shape=(), dtype=float32, numpy=0.0>,\n",
              " <tf.Tensor: shape=(), dtype=float32, numpy=0.0>,\n",
              " <tf.Tensor: shape=(), dtype=float32, numpy=0.30612946>]"
            ]
          },
          "metadata": {
            "tags": []
          },
          "execution_count": 10
        }
      ]
    },
    {
      "cell_type": "code",
      "metadata": {
        "id": "JRVOhCsIJV5s",
        "outputId": "39ee194d-4671-4774-8920-3a7616e7ae98",
        "colab": {
          "base_uri": "https://localhost:8080/",
          "height": 87
        }
      },
      "source": [
        "max_pool_applied1[0]"
      ],
      "execution_count": null,
      "outputs": [
        {
          "output_type": "execute_result",
          "data": {
            "text/plain": [
              "<tf.Tensor: shape=(10,), dtype=float32, numpy=\n",
              "array([1.6437994 , 1.8213649 , 2.257647  , 2.7558026 , 0.6202028 ,\n",
              "       1.007894  , 1.5842854 , 2.4395413 , 0.53240544, 2.3295946 ],\n",
              "      dtype=float32)>"
            ]
          },
          "metadata": {
            "tags": []
          },
          "execution_count": 11
        }
      ]
    },
    {
      "cell_type": "code",
      "metadata": {
        "id": "MsZL3uYlQrB3",
        "outputId": "697dab74-5d09-4f27-e6af-a3494aa5da14",
        "colab": {
          "base_uri": "https://localhost:8080/",
          "height": 70
        }
      },
      "source": [
        "POOL_SIZE2 = SEQ_LEN - KERNEL_SIZE2 + 1\n",
        "## <- 이 계산을 알아서 해주는 것이 GlobalMaxPooling1D !!!\n",
        "print(\"CNN applied size for kernel {} => {}\".format(KERNEL_SIZE2, cnn_applied2.shape))\n",
        "print(\"Pooling size for kernel {}     => {}\".format(KERNEL_SIZE2, POOL_SIZE2))\n",
        "\n",
        "max_pool_applied2 = GlobalMaxPooling1D()(cnn_applied2)\n",
        "print(max_pool_applied2.shape)"
      ],
      "execution_count": null,
      "outputs": [
        {
          "output_type": "stream",
          "text": [
            "CNN applied size for kernel 4 => (1, 7, 10)\n",
            "Pooling size for kernel 4     => 7\n",
            "(1, 10)\n"
          ],
          "name": "stdout"
        }
      ]
    },
    {
      "cell_type": "markdown",
      "metadata": {
        "id": "F0Ax9S5M3pb5"
      },
      "source": [
        "3. 만들어진 feature들을 concat"
      ]
    },
    {
      "cell_type": "code",
      "metadata": {
        "id": "YmQ3J1H-RAq3",
        "outputId": "c17dc600-933b-4c93-8c43-9e6e514a94e3",
        "colab": {
          "base_uri": "https://localhost:8080/",
          "height": 35
        }
      },
      "source": [
        "concated_feature = tf.keras.layers.concatenate([max_pool_applied1, max_pool_applied2], axis=-1)\n",
        "print(concated_feature.shape)"
      ],
      "execution_count": 15,
      "outputs": [
        {
          "output_type": "stream",
          "text": [
            "(1, 20)\n"
          ],
          "name": "stdout"
        }
      ]
    }
  ]
}